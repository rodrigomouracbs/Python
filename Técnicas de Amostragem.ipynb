from google.colab import drive
drive.mount('/content/drive')

# Amostragem: Aleatória, Sistemática, Estratificada

**Amostragem Aleatória Simples**

import pandas as pd

df = pd.read_csv('covid19.csv')

df.info()

df.head()

#Criando uma amostra com 1000 registros a partir do conjunto de dados
df_sample = df.sample(n=10)

df_sample.info()

import seaborn as sns

sns.catplot(y='provincial_case_id', kind='box', data=df_sample)

#Especificando o tamanho da amostra através do percentual
df_sample = df.sample(frac=0.10)

df_sample.info()

**Amostragem Aleatória Estratificada**

from sklearn.model_selection import train_test_split

df['province'].value_counts()

#Gerando amostra estratificada
X_train, X_test, y_train, y_test = train_test_split(df.drop('province', axis=1),
                                                    df['province'],
                                                    stratify=df['province'],
                                                    test_size=0.2)

#Verificando a forma dos dados
y_test.shape

y_test.value_counts()

**Amostragem Sistemática**

#Gerando a semente aleatória
import numpy as np
semente = np.random.choice(10,1)#Seleciona um número aleatório entre 1 e 10

semente

#Gerando o índice a partira da semente
indices = np.arange(0,100,semente)#Gera amostra de 100 elementos com passo = a semente

indices

#Gerando a amostra a partir do índice
amostra = df.loc[indices,:]

amostra

#Contagem de registros
amostra.info()

# Medidas de Posição e Tendência Central

import numpy as np
import matplotlib.pyplot as plt
from cycler import cycler

from scipy.stats.mstats import gmean,hmean
from scipy import stats

dados = [1,2,5,3,4]

np.mean(dados)

gmean(dados)

hmean(dados)

def plot_lines(dados, valor_central):
  if valor_central in dados:
    posicao_central = dados.index(valor_central)+1
  else:
    dados.append(valor_central)
    dados.sort()
    posicao_central = dados.index(valor_central)+1
  
  posicoes = np.arange(1,len(dados)+1,1)
  plt.figure(figsize=(8,6))
  plt.plot(posicoes,dados,'o-', color='red',ms=15)
  plt.plot(posicao_central, valor_central, 'o-',color='blue',ms=15)
  plt.show()

def plot_line_means(dados, mean, gmean,hmean):
  posicoes_centrais=[]
  y=[]
  x = dados
  
  for m in [mean,gmean,hmean]:
    x.append(m)
  
  x.sort()
  for m in [mean,gmean,hmean]:
    if m in x:
      posicoes_centrais.append(x.index(m)+1)
  
  print("Dados: {}".format(x))
  print("Media aritmética: {}, Média Geométrica: {}, Média Harmonica: {}".format(mean,gmean,hmean))
  
  y = np.arange(1,len(x)+1,1)
  
  plt.figure(figsize=(8,6))
  plt.rc('axes', prop_cycle=(cycler('color', ['r', 'g', 'b'])))
  plt.plot(y,x,'o-', color='black',ms=15)
  medias = ['MA','MG','MH'] 
  i=0
  for posicao_central,valor_central in zip(posicoes_centrais,[mean,gmean,hmean]):
    plt.plot(posicao_central, valor_central, 'o-',ms=15)
    plt.text(x=posicao_central+0.2, y=valor_central+0.2, s=medias[i], alpha=0.7, color='#334f8d')
    i+=1

  plt.show()

def plot_lines_horizontal(dados,valor_central):
  plt.figure(figsize=(10,6))
  y = 0
  plt.hlines(y, min(dados), max(dados))
  for n in dados:
    if n == valor_central:
      plt.plot(n,y, 'o', ms = 15, color='blue')
      continue  
    plt.plot(n,y, 'o', ms = 15, color = 'red')

dados_linear = [1,4,7,10,13,16,19]

media = int(np.mean(dados_linear))

plot_lines(dados_linear, media)

plot_lines_horizontal(dados_linear, media)

dados_exponencial=[1, 3, 9, 27, 81, 243, 729]

media = int(np.mean(dados_exponencial))

print('Valor da média aritmética: {}'.format(media))

plot_lines(dados_exponencial, media)

plot_lines_horizontal(dados_exponencial, media)

media_geo = int(gmean(dados_exponencial))

print('Valor da média geométrica: {}'.format(media_geo))

plot_lines(dados_exponencial, media_geo)

plot_lines_horizontal(dados_exponencial, media_geo)

# Comparando as Médias em um Cenário Real

**Calculando a média aritmética**

aval_gramado,aval_curitiba = 3.5,4.5
indice_gramado,indice_curitiba =89,75

print("Média para Gramado: {}".format(np.mean([aval_gramado,indice_gramado])))
print("Média para Curitiba: {}".format(np.mean([aval_curitiba,indice_curitiba])))

**Reescalonando os dados de avaliação para os dados de índice de satisfação**

print("Valores reescalonados: {},{}".format(aval_gramado*20,aval_curitiba*20))

print("Média para Gramado: {}".format(np.mean([aval_gramado*20,indice_gramado])))
print("Média para Curitiba: {}".format(np.mean([aval_curitiba*20,indice_curitiba])))

#Mesmo cenário com a média geométrica
print("Média para Gramado: {}".format(gmean([aval_gramado,indice_gramado])))
print("Média para Curitiba: {}".format(gmean([aval_curitiba,indice_curitiba])))

Percurso total da viagem 10 km
*   Caminho de ida = 30 km/h
*   Caminho de volta = 10 km/h



#Usando a média aritmética
np.mean([30,10])

#Média aritmética ponderada
np.average([30,10], weights=[.25, .75])

hmean([30,10])

# Moda e Mediana

**Dados com relacionamento aditivo**

dados = [1,4,7,10,13,16,19] #round = arredondamento

media_aritmetica,media_geometrica,media_harmonica=round(np.mean(dados),2),round(gmean(dados),2),round(hmean(dados),2)

media_aritmetica,media_geometrica,media_harmonica

plot_line_means(dados,media_aritmetica,media_geometrica,media_harmonica)

**Dados com relacionamento multiplicativo**

dados=[1,3,9,27,81,243,729]

media_aritmetica,media_geometrica,media_harmonica=round(np.mean(dados),2),round(gmean(dados),2),round(hmean(dados),2)

media_aritmetica,media_geometrica,media_harmonica

plot_line_means(dados,media_aritmetica,media_geometrica,media_harmonica)

**Moda - Valores mais frequentes da distribuição**

dados = [4,5,4,6,5,8,4]

stats.mode(dados)

dados_bimodal=[4,5,4,6,5,8,4,4,5,5]

from collections import Counter

def calcula_moda(dados):
  number_counts=Counter(dados)
  print(number_counts)
  modes=[val for val, count in number_counts.items() if count == max(number_counts.values())]
  return modes

calcula_moda(dados_bimodal)

dados_amodal=[1,2,3,4,5]

calcula_moda(dados_amodal)

dados_mediana7=[7,1,5,2,3,1,6]

np.sort(dados_mediana7)

np.median(dados_mediana7)

dados_mediana8 = [1,2,1,1,4,5,3,6]

np.sort(dados_mediana8)

np.median(dados_mediana8)

