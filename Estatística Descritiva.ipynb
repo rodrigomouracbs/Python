from google.colab import drive
drive.mount('/content/drive')

import numpy as np
from scipy import stats

# Medidas Separatrizes
notas = [13,25,69,72,33,41,28,17,65]
np.sort(notas) #Ordenamento dos dados

**Primeiro Quartil**
  np.quantile(notas,.25)

**Segundo Quartil**
np.quantile(notas,.50)

# Comparando com o valor da mediana
np.median(notas)

**Terceiro Quartil**
np.quantile(notas, .75)

**P25 - Percentil 25 = Q1, Percentil 50 = Q2, Percentil 75 = Q3**
np.percentile(notas,75)

# Medidas de Variação e Dispersão
dados_dispersao = [10,20,30,40,50,60,70,80,90,100]
np.mean(dados_dispersao)

#Variância
np.var(dados_dispersao)

#Desvio Padrão e Coeficiente de Variação
np.std(dados_dispersao)
stats.variation(dados_dispersao)
cv = round(stats.variation(dados_dispersao)*100,2)
print("Coeficiente de Variação: {}%".format(cv))

# Exemplo usando o Pandas
import pandas as pd
import numpy as np
import seaborn as sns
import matplotlib.pyplot as plt
from scipy.stats.mstats import gmean,hmean

df = pd.read_csv('cars.csv')

df.head(5)

df.info()

#Limpando os dados do atributo MSRP
df['MSRP']=[x.replace("$","")for x in df['MSRP']]
df['MSRP']=[x.replace(",","")for x in df['MSRP']]

#Transformando os dados para o formato numérico
df['MSRP']=pd.to_numeric(df['MSRP'],errors='coerce') #Errors = tratamento de erro

df.info()

#Média aritmética
df['MSRP'].mean()

msrp=df['MSRP']

msrp.mean()

#Média Geométrica
gmean(msrp)

#Média Harmônica
hmean(msrp)

#Mediana
msrp.median()

#Moda
msrp.mode()

#Variância
msrp.var()

#Desvio Padrão
msrp.std()

#Valor máximo
msrp.max()

#Valor mínimo
msrp.min()

cv = round(stats.variation(msrp)*100,2)
print("Coeficiente de Variação: {}%".format(cv))

df.describe() #Exibe a estatística descritiva do dataframe

# Medidas de Assimetria
import matplotlib.pyplot as plt
import math
import numpy as np
import seaborn as sns
import pandas as pd
from scipy.stats import kurtosis, skew

**Função para calcular estatísticas**
def calcula_estatisticas(data):
  mean = round(np.mean(data),2)
  mode = round(stats.mode(data,)[0][0],2)
  median = round(np.median(data),2)
  var=round(np.var(data),2)
  std=round(np.std(data),2)
  coef_pearson=round(stats.skew(data),2)
  coef_kurtosis=round(kurtosis(data),2)
  msg=print("Media: {}\nModa: {}\nMediana: {}\nVariância: {}\nDesvio Padrão: {}\nCoeficiente Pearson: {}\nKurtosis: {}".format(mean,mode,median,var,std,coef_pearson,coef_kurtosis))
  return msg

def grafico(data):
  fig = plt.figure(figsize=(12,4))
  ax=sns.distplot(data,rug=True,kde=True,hist=False)
  ax.annotate('Mode', xy=(5,0.4), xytext=(4.7,0.7), arrowprops={'arrowstyle':'-'})
  ax.annotate('Median', xy=(5,0.4), xytext=(5.3,0.7), arrowprops={'arrowstyle':'-'})
  ax.annotate('Média', xy=(5,0.4), xytext=(5.0,1), arrowprops={'arrowstyle':'-'})
  exibe = plt.show()
  return exibe

s0 = [4,5,6,5,5,6,6,5,4,5,5,5]

calcula_estatisticas(s0)

grafico(s0)

s1= [12,8.0,4,3,2,1,1]

np.sort(s1)

calcula_estatisticas(s1)

fig = plt.figure(figsize=(12, 4))
ax = sns.distplot(s1,rug=True,kde=True,hist=False)
ax.annotate('Mode', xy=(1,0.01), xytext=(1,0.02), arrowprops={'arrowstyle':'-'})
ax.annotate('Median', xy=(3,0.01), xytext=(3,0.03), arrowprops={'arrowstyle':'-'})
ax.annotate('Média', xy=(4.4,0.01), xytext=(4.5,0.02), arrowprops={'arrowstyle':'-'})
plt.show()

s2 = [-3,-1,4,2.5,4,3]

calcula_estatisticas(s2)

fig = plt.figure(figsize=(12, 4))
ax = sns.distplot(s2,rug=True,kde=True,hist=False)
ax.annotate('Mode', xy=(4,0.01), xytext=(5,0.05), arrowprops={'arrowstyle':'-'})
ax.annotate('Median', xy=(2.75,0.01), xytext=(3,0.03), arrowprops={'arrowstyle':'-'})
ax.annotate('Média', xy=(1.5,0.01), xytext=(0.5,0.05), arrowprops={'arrowstyle':'-'})
plt.show()

# Gerando dados aleatórios
sample_normal = np.random.normal(1,0.5,500)

sample_normal[:10]

calcula_estatisticas(sample_normal)

fig=plt.figure(figsize=(12,4))
sns.distplot(sample_normal)

exp = np.arange(2,len(sample_normal),2)

exp[:10]

#Gerando uma distribuição assimétrica positiva
sample_assimetrica_positiva=[]
for s,e in zip(sample_normal,exp):
  sample_assimetrica_positiva.append(s*e)

calcula_estatisticas(sample_assimetrica_positiva)

#Visualizando a distribuição
sns.distplot(sample_assimetrica_positiva)

#Gerando uma distribuição assimétrica negativa
exp = (np.arange(2,len(sample_normal),2))*-1

sample_assimetrica_negativa=[]
for s,e in zip(sample_normal,exp):
  sample_assimetrica_negativa.append(s*e)

calcula_estatisticas(sample_assimetrica_negativa)

sns.distplot(sample_assimetrica_negativa)

# Verificando graficamente as distribuições dos atributos do DataFrame
import matplotlib.pyplot as plt

fig, axes = plt.subplots(nrows=3, ncols=3, figsize=(16,12))
for i, column in enumerate(df.select_dtypes(include=np.number).columns.tolist()):
  sns.distplot(df[column],ax=axes[i//3,i%3])


#Verificando a distribuição de probabilidade e a diferença entre a média e a mediana
for i, column in enumerate(df.select_dtypes(include=np.number).columns.tolist()): #Filtra as colunas com dados numéricos e cria uma lista
  media = round(df[column].mean(),2)
  std = df[column].std()
  cvar = round(std/media*100,2)
  median = df[column].median()
  print("Atributo: {}, Coeficiente de Variação: {} %, Media {}, Mediana: {}".format(column,cvar,media,median))

