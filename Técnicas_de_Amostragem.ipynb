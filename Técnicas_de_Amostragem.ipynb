{
  "nbformat": 4,
  "nbformat_minor": 0,
  "metadata": {
    "colab": {
      "name": "Técnicas de Amostragem.ipynb",
      "provenance": [],
      "toc_visible": true,
      "authorship_tag": "ABX9TyMOFhlM99SkDRpW5sPHJSIb",
      "include_colab_link": true
    },
    "kernelspec": {
      "name": "python3",
      "display_name": "Python 3"
    },
    "language_info": {
      "name": "python"
    }
  },
  "cells": [
    {
      "cell_type": "markdown",
      "metadata": {
        "id": "view-in-github",
        "colab_type": "text"
      },
      "source": [
        "<a href=\"https://colab.research.google.com/github/rodrigomouracbs/Python/blob/main/T%C3%A9cnicas_de_Amostragem.ipynb\" target=\"_parent\"><img src=\"https://colab.research.google.com/assets/colab-badge.svg\" alt=\"Open In Colab\"/></a>"
      ]
    },
    {
      "cell_type": "code",
      "metadata": {
        "colab": {
          "base_uri": "https://localhost:8080/"
        },
        "id": "TKA1W241S5Q8",
        "outputId": "f7954723-7bdb-422f-864a-e444311fadd1"
      },
      "source": [
        "from google.colab import drive\n",
        "drive.mount('/content/drive')"
      ],
      "execution_count": null,
      "outputs": [
        {
          "output_type": "stream",
          "text": [
            "Mounted at /content/drive\n"
          ],
          "name": "stdout"
        }
      ]
    },
    {
      "cell_type": "markdown",
      "metadata": {
        "id": "Vs34NeY2TmlE"
      },
      "source": [
        "# Amostragem: Aleatória, Sistemática, Estratificada"
      ]
    },
    {
      "cell_type": "markdown",
      "metadata": {
        "id": "sep8CzDUUXS9"
      },
      "source": [
        "**Amostragem Aleatória Simples**"
      ]
    },
    {
      "cell_type": "code",
      "metadata": {
        "id": "Z5SeBJnNS7t8"
      },
      "source": [
        "import pandas as pd"
      ],
      "execution_count": null,
      "outputs": []
    },
    {
      "cell_type": "code",
      "metadata": {
        "id": "5uFZvldKVuvQ"
      },
      "source": [
        "df = pd.read_csv('/content/drive/MyDrive/Colab Notebooks/Curso DSZ/Datasets/covid19.csv')"
      ],
      "execution_count": null,
      "outputs": []
    },
    {
      "cell_type": "code",
      "metadata": {
        "colab": {
          "base_uri": "https://localhost:8080/"
        },
        "id": "ukCNkLAaV0v_",
        "outputId": "6ea4fb25-be48-4942-eefb-4ac54621a72b"
      },
      "source": [
        "df.info()"
      ],
      "execution_count": null,
      "outputs": [
        {
          "output_type": "stream",
          "text": [
            "<class 'pandas.core.frame.DataFrame'>\n",
            "RangeIndex: 50982 entries, 0 to 50981\n",
            "Data columns (total 12 columns):\n",
            " #   Column              Non-Null Count  Dtype  \n",
            "---  ------              --------------  -----  \n",
            " 0   case_id             0 non-null      float64\n",
            " 1   provincial_case_id  50982 non-null  int64  \n",
            " 2   age                 50982 non-null  object \n",
            " 3   sex                 50982 non-null  object \n",
            " 4   health_region       50982 non-null  object \n",
            " 5   province            50982 non-null  object \n",
            " 6   country             50982 non-null  object \n",
            " 7   date_report         50982 non-null  object \n",
            " 8   report_week         50982 non-null  object \n",
            " 9   has_travel_history  1150 non-null   object \n",
            " 10  locally_acquired    574 non-null    object \n",
            " 11  case_source         50982 non-null  object \n",
            "dtypes: float64(1), int64(1), object(10)\n",
            "memory usage: 4.7+ MB\n"
          ],
          "name": "stdout"
        }
      ]
    },
    {
      "cell_type": "code",
      "metadata": {
        "id": "y0UoSAG_V3h7"
      },
      "source": [
        "df.head()"
      ],
      "execution_count": null,
      "outputs": []
    },
    {
      "cell_type": "code",
      "metadata": {
        "id": "3Y84RYlcWBDp"
      },
      "source": [
        "#Criando uma amostra com 1000 registros a partir do conjunto de dados\n",
        "df_sample = df.sample(n=10)"
      ],
      "execution_count": null,
      "outputs": []
    },
    {
      "cell_type": "code",
      "metadata": {
        "colab": {
          "base_uri": "https://localhost:8080/"
        },
        "id": "zbCkSNahWtNH",
        "outputId": "892e06e4-98e2-4cdb-8086-f5b86767080b"
      },
      "source": [
        "df_sample.info()"
      ],
      "execution_count": null,
      "outputs": [
        {
          "output_type": "stream",
          "text": [
            "<class 'pandas.core.frame.DataFrame'>\n",
            "Int64Index: 1000 entries, 34025 to 24876\n",
            "Data columns (total 12 columns):\n",
            " #   Column              Non-Null Count  Dtype  \n",
            "---  ------              --------------  -----  \n",
            " 0   case_id             0 non-null      float64\n",
            " 1   provincial_case_id  1000 non-null   int64  \n",
            " 2   age                 1000 non-null   object \n",
            " 3   sex                 1000 non-null   object \n",
            " 4   health_region       1000 non-null   object \n",
            " 5   province            1000 non-null   object \n",
            " 6   country             1000 non-null   object \n",
            " 7   date_report         1000 non-null   object \n",
            " 8   report_week         1000 non-null   object \n",
            " 9   has_travel_history  28 non-null     object \n",
            " 10  locally_acquired    13 non-null     object \n",
            " 11  case_source         1000 non-null   object \n",
            "dtypes: float64(1), int64(1), object(10)\n",
            "memory usage: 101.6+ KB\n"
          ],
          "name": "stdout"
        }
      ]
    },
    {
      "cell_type": "code",
      "metadata": {
        "id": "cZrJGXjcWxTS"
      },
      "source": [
        "import seaborn as sns"
      ],
      "execution_count": null,
      "outputs": []
    },
    {
      "cell_type": "code",
      "metadata": {
        "colab": {
          "base_uri": "https://localhost:8080/",
          "height": 386
        },
        "id": "MX0k1aeWXDlN",
        "outputId": "f3d419e7-af58-42c9-b9d1-5e3a9199a5b9"
      },
      "source": [
        "sns.catplot(y='provincial_case_id', kind='box', data=df_sample)"
      ],
      "execution_count": null,
      "outputs": [
        {
          "output_type": "execute_result",
          "data": {
            "text/plain": [
              "<seaborn.axisgrid.FacetGrid at 0x7fdf1f473b50>"
            ]
          },
          "metadata": {
            "tags": []
          },
          "execution_count": 18
        },
        {
          "output_type": "display_data",
          "data": {
            "image/png": "[encoded data removed]",
            "text/plain": [
              "<Figure size 360x360 with 1 Axes>"
            ]
          },
          "metadata": {
            "tags": [],
            "needs_background": "light"
          }
        }
      ]
    },
    {
      "cell_type": "code",
      "metadata": {
        "id": "ek0JS5V2XkRA"
      },
      "source": [
        "#Especificando o tamanho da amostra através do percentual\n",
        "df_sample = df.sample(frac=0.10)"
      ],
      "execution_count": null,
      "outputs": []
    },
    {
      "cell_type": "code",
      "metadata": {
        "colab": {
          "base_uri": "https://localhost:8080/"
        },
        "id": "On0FPSq4Yp_E",
        "outputId": "30095f95-861f-4153-e5fd-718659784908"
      },
      "source": [
        "df_sample.info()"
      ],
      "execution_count": null,
      "outputs": [
        {
          "output_type": "stream",
          "text": [
            "<class 'pandas.core.frame.DataFrame'>\n",
            "Int64Index: 5098 entries, 31122 to 5254\n",
            "Data columns (total 12 columns):\n",
            " #   Column              Non-Null Count  Dtype  \n",
            "---  ------              --------------  -----  \n",
            " 0   case_id             0 non-null      float64\n",
            " 1   provincial_case_id  5098 non-null   int64  \n",
            " 2   age                 5098 non-null   object \n",
            " 3   sex                 5098 non-null   object \n",
            " 4   health_region       5098 non-null   object \n",
            " 5   province            5098 non-null   object \n",
            " 6   country             5098 non-null   object \n",
            " 7   date_report         5098 non-null   object \n",
            " 8   report_week         5098 non-null   object \n",
            " 9   has_travel_history  112 non-null    object \n",
            " 10  locally_acquired    55 non-null     object \n",
            " 11  case_source         5098 non-null   object \n",
            "dtypes: float64(1), int64(1), object(10)\n",
            "memory usage: 517.8+ KB\n"
          ],
          "name": "stdout"
        }
      ]
    },
    {
      "cell_type": "markdown",
      "metadata": {
        "id": "NO5Nd6JMaakT"
      },
      "source": [
        "**Amostragem Aleatória Estratificada**"
      ]
    },
    {
      "cell_type": "code",
      "metadata": {
        "id": "PJDGX0SKYsCk"
      },
      "source": [
        "from sklearn.model_selection import train_test_split"
      ],
      "execution_count": null,
      "outputs": []
    },
    {
      "cell_type": "code",
      "metadata": {
        "colab": {
          "base_uri": "https://localhost:8080/"
        },
        "id": "sBD2gDK6amrO",
        "outputId": "bf12a304-2459-4df9-ef03-c23a327865e1"
      },
      "source": [
        "df['province'].value_counts()"
      ],
      "execution_count": null,
      "outputs": [
        {
          "output_type": "execute_result",
          "data": {
            "text/plain": [
              "Quebec           25757\n",
              "Ontario          16337\n",
              "Alberta           4850\n",
              "BC                2053\n",
              "Nova Scotia        915\n",
              "Saskatchewan       366\n",
              "Manitoba           272\n",
              "NL                 258\n",
              "New Brunswick      118\n",
              "PEI                 27\n",
              "Repatriated         13\n",
              "Yukon               11\n",
              "NWT                  5\n",
              "Name: province, dtype: int64"
            ]
          },
          "metadata": {
            "tags": []
          },
          "execution_count": 21
        }
      ]
    },
    {
      "cell_type": "code",
      "metadata": {
        "id": "jtmp0kUva9j9"
      },
      "source": [
        "#Gerando amostra estratificada\n",
        "X_train, X_test, y_train, y_test = train_test_split(df.drop('province', axis=1),\n",
        "                                                    df['province'],\n",
        "                                                    stratify=df['province'],\n",
        "                                                    test_size=0.2)"
      ],
      "execution_count": null,
      "outputs": []
    },
    {
      "cell_type": "code",
      "metadata": {
        "colab": {
          "base_uri": "https://localhost:8080/"
        },
        "id": "NreKLdP3cg2X",
        "outputId": "8aaa9661-6329-4443-86d9-9d3751f06b3c"
      },
      "source": [
        "#Verificando a forma dos dados\n",
        "y_test.shape"
      ],
      "execution_count": null,
      "outputs": [
        {
          "output_type": "execute_result",
          "data": {
            "text/plain": [
              "(10197,)"
            ]
          },
          "metadata": {
            "tags": []
          },
          "execution_count": 25
        }
      ]
    },
    {
      "cell_type": "code",
      "metadata": {
        "colab": {
          "base_uri": "https://localhost:8080/"
        },
        "id": "37PxwwdPcmL5",
        "outputId": "bd15f99e-cc7c-4094-9ff7-d928694783a5"
      },
      "source": [
        "y_test.value_counts()"
      ],
      "execution_count": null,
      "outputs": [
        {
          "output_type": "execute_result",
          "data": {
            "text/plain": [
              "Quebec           5152\n",
              "Ontario          3267\n",
              "Alberta           970\n",
              "BC                411\n",
              "Nova Scotia       183\n",
              "Saskatchewan       73\n",
              "Manitoba           54\n",
              "NL                 52\n",
              "New Brunswick      24\n",
              "PEI                 5\n",
              "Repatriated         3\n",
              "Yukon               2\n",
              "NWT                 1\n",
              "Name: province, dtype: int64"
            ]
          },
          "metadata": {
            "tags": []
          },
          "execution_count": 26
        }
      ]
    },
    {
      "cell_type": "markdown",
      "metadata": {
        "id": "FdhaQtyMhXmb"
      },
      "source": [
        "**Amostragem Sistemática**"
      ]
    },
    {
      "cell_type": "code",
      "metadata": {
        "id": "CUw4aDlvc3L1"
      },
      "source": [
        "#Gerando a semente aleatória\n",
        "import numpy as np\n",
        "semente = np.random.choice(10,1)#Seleciona um número aleatório entre 1 e 10\n"
      ],
      "execution_count": null,
      "outputs": []
    },
    {
      "cell_type": "code",
      "metadata": {
        "colab": {
          "base_uri": "https://localhost:8080/"
        },
        "id": "JhbePtRHhvv0",
        "outputId": "6e182749-9000-4d8e-d02b-4205c5737c72"
      },
      "source": [
        "semente"
      ],
      "execution_count": null,
      "outputs": [
        {
          "output_type": "execute_result",
          "data": {
            "text/plain": [
              "array([3])"
            ]
          },
          "metadata": {
            "tags": []
          },
          "execution_count": 28
        }
      ]
    },
    {
      "cell_type": "code",
      "metadata": {
        "id": "VX7CFaPAhxRe"
      },
      "source": [
        "#Gerando o índice a partira da semente\n",
        "indices = np.arange(0,100,semente)#Gera amostra de 100 elementos com passo = a semente"
      ],
      "execution_count": null,
      "outputs": []
    },
    {
      "cell_type": "code",
      "metadata": {
        "colab": {
          "base_uri": "https://localhost:8080/"
        },
        "id": "GkbL8lKlivmB",
        "outputId": "a266bfa5-d700-4e45-9246-58a604798ae4"
      },
      "source": [
        "indices"
      ],
      "execution_count": null,
      "outputs": [
        {
          "output_type": "execute_result",
          "data": {
            "text/plain": [
              "array([ 0,  3,  6,  9, 12, 15, 18, 21, 24, 27, 30, 33, 36, 39, 42, 45, 48,\n",
              "       51, 54, 57, 60, 63, 66, 69, 72, 75, 78, 81, 84, 87, 90, 93, 96, 99])"
            ]
          },
          "metadata": {
            "tags": []
          },
          "execution_count": 31
        }
      ]
    },
    {
      "cell_type": "code",
      "metadata": {
        "id": "bRKoAep7izXT"
      },
      "source": [
        "#Gerando a amostra a partir do índice\n",
        "amostra = df.loc[indices,:]"
      ],
      "execution_count": null,
      "outputs": []
    },
    {
      "cell_type": "code",
      "metadata": {
        "colab": {
          "base_uri": "https://localhost:8080/",
          "height": 1000
        },
        "id": "QDB7q8iXjMFe",
        "outputId": "e1b87da2-4d8b-4e9e-b78d-25c2c39d7632"
      },
      "source": [
        "amostra"
      ],
      "execution_count": null,
      "outputs": [
        {
          "output_type": "execute_result",
          "data": {
            "text/html": [
              "<div>\n",
              "<style scoped>\n",
              "    .dataframe tbody tr th:only-of-type {\n",
              "        vertical-align: middle;\n",
              "    }\n",
              "\n",
              "    .dataframe tbody tr th {\n",
              "        vertical-align: top;\n",
              "    }\n",
              "\n",
              "    .dataframe thead th {\n",
              "        text-align: right;\n",
              "    }\n",
              "</style>\n",
              "<table border=\"1\" class=\"dataframe\">\n",
              "  <thead>\n",
              "    <tr style=\"text-align: right;\">\n",
              "      <th></th>\n",
              "      <th>case_id</th>\n",
              "      <th>provincial_case_id</th>\n",
              "      <th>age</th>\n",
              "      <th>sex</th>\n",
              "      <th>health_region</th>\n",
              "      <th>province</th>\n",
              "      <th>country</th>\n",
              "      <th>date_report</th>\n",
              "      <th>report_week</th>\n",
              "      <th>has_travel_history</th>\n",
              "      <th>locally_acquired</th>\n",
              "      <th>case_source</th>\n",
              "    </tr>\n",
              "  </thead>\n",
              "  <tbody>\n",
              "    <tr>\n",
              "      <th>0</th>\n",
              "      <td>NaN</td>\n",
              "      <td>1</td>\n",
              "      <td>50-59</td>\n",
              "      <td>Male</td>\n",
              "      <td>Toronto</td>\n",
              "      <td>Ontario</td>\n",
              "      <td>Canada</td>\n",
              "      <td>2020-01-25</td>\n",
              "      <td>2020-01-19</td>\n",
              "      <td>t</td>\n",
              "      <td>NaN</td>\n",
              "      <td>(1) https://news.ontario.ca/mohltc/en/2020/01/...</td>\n",
              "    </tr>\n",
              "    <tr>\n",
              "      <th>3</th>\n",
              "      <td>NaN</td>\n",
              "      <td>3</td>\n",
              "      <td>20-29</td>\n",
              "      <td>Female</td>\n",
              "      <td>Middlesex-London</td>\n",
              "      <td>Ontario</td>\n",
              "      <td>Canada</td>\n",
              "      <td>2020-01-31</td>\n",
              "      <td>2020-01-26</td>\n",
              "      <td>t</td>\n",
              "      <td>NaN</td>\n",
              "      <td>(1) https://news.ontario.ca/mohltc/en/2020/01/...</td>\n",
              "    </tr>\n",
              "    <tr>\n",
              "      <th>6</th>\n",
              "      <td>NaN</td>\n",
              "      <td>4</td>\n",
              "      <td>30-39</td>\n",
              "      <td>Female</td>\n",
              "      <td>Vancouver Coastal</td>\n",
              "      <td>BC</td>\n",
              "      <td>Canada</td>\n",
              "      <td>2020-02-06</td>\n",
              "      <td>2020-02-02</td>\n",
              "      <td>t</td>\n",
              "      <td>NaN</td>\n",
              "      <td>https://news.gov.bc.ca/releases/2020HLTH0025-0...</td>\n",
              "    </tr>\n",
              "    <tr>\n",
              "      <th>9</th>\n",
              "      <td>NaN</td>\n",
              "      <td>4</td>\n",
              "      <td>20-29</td>\n",
              "      <td>Female</td>\n",
              "      <td>Toronto</td>\n",
              "      <td>Ontario</td>\n",
              "      <td>Canada</td>\n",
              "      <td>2020-02-23</td>\n",
              "      <td>2020-02-23</td>\n",
              "      <td>t</td>\n",
              "      <td>NaN</td>\n",
              "      <td>(1) https://news.ontario.ca/mohltc/en/2020/02/...</td>\n",
              "    </tr>\n",
              "    <tr>\n",
              "      <th>12</th>\n",
              "      <td>NaN</td>\n",
              "      <td>6</td>\n",
              "      <td>60-69</td>\n",
              "      <td>Male</td>\n",
              "      <td>Toronto</td>\n",
              "      <td>Ontario</td>\n",
              "      <td>Canada</td>\n",
              "      <td>2020-02-27</td>\n",
              "      <td>2020-02-23</td>\n",
              "      <td>f</td>\n",
              "      <td>Close Contact</td>\n",
              "      <td>(1) https://news.ontario.ca/mohltc/en/2020/02/...</td>\n",
              "    </tr>\n",
              "    <tr>\n",
              "      <th>15</th>\n",
              "      <td>NaN</td>\n",
              "      <td>8</td>\n",
              "      <td>80-89</td>\n",
              "      <td>Male</td>\n",
              "      <td>Toronto</td>\n",
              "      <td>Ontario</td>\n",
              "      <td>Canada</td>\n",
              "      <td>2020-02-28</td>\n",
              "      <td>2020-02-23</td>\n",
              "      <td>t</td>\n",
              "      <td>NaN</td>\n",
              "      <td>https://news.ontario.ca/mohltc/en/2020/02/onta...</td>\n",
              "    </tr>\n",
              "    <tr>\n",
              "      <th>18</th>\n",
              "      <td>NaN</td>\n",
              "      <td>11</td>\n",
              "      <td>60-69</td>\n",
              "      <td>Male</td>\n",
              "      <td>Durham</td>\n",
              "      <td>Ontario</td>\n",
              "      <td>Canada</td>\n",
              "      <td>2020-02-29</td>\n",
              "      <td>2020-02-23</td>\n",
              "      <td>f</td>\n",
              "      <td>Close Contact</td>\n",
              "      <td>https://news.ontario.ca/mohltc/en/2020/02/onta...</td>\n",
              "    </tr>\n",
              "    <tr>\n",
              "      <th>21</th>\n",
              "      <td>NaN</td>\n",
              "      <td>13</td>\n",
              "      <td>40-49</td>\n",
              "      <td>Male</td>\n",
              "      <td>York</td>\n",
              "      <td>Ontario</td>\n",
              "      <td>Canada</td>\n",
              "      <td>2020-03-01</td>\n",
              "      <td>2020-03-01</td>\n",
              "      <td>t</td>\n",
              "      <td>NaN</td>\n",
              "      <td>https://news.ontario.ca/mohltc/en/2020/03/onta...</td>\n",
              "    </tr>\n",
              "    <tr>\n",
              "      <th>24</th>\n",
              "      <td>NaN</td>\n",
              "      <td>16</td>\n",
              "      <td>60-69</td>\n",
              "      <td>Female</td>\n",
              "      <td>York</td>\n",
              "      <td>Ontario</td>\n",
              "      <td>Canada</td>\n",
              "      <td>2020-03-03</td>\n",
              "      <td>2020-03-01</td>\n",
              "      <td>t</td>\n",
              "      <td>NaN</td>\n",
              "      <td>https://toronto.ctvnews.ca/three-new-cases-of-...</td>\n",
              "    </tr>\n",
              "    <tr>\n",
              "      <th>27</th>\n",
              "      <td>NaN</td>\n",
              "      <td>19</td>\n",
              "      <td>70-79</td>\n",
              "      <td>Female</td>\n",
              "      <td>York</td>\n",
              "      <td>Ontario</td>\n",
              "      <td>Canada</td>\n",
              "      <td>2020-03-03</td>\n",
              "      <td>2020-03-01</td>\n",
              "      <td>t</td>\n",
              "      <td>NaN</td>\n",
              "      <td>(1) https://news.ontario.ca/mohltc/en/2020/03/...</td>\n",
              "    </tr>\n",
              "    <tr>\n",
              "      <th>30</th>\n",
              "      <td>NaN</td>\n",
              "      <td>10</td>\n",
              "      <td>60-69</td>\n",
              "      <td>Male</td>\n",
              "      <td>Vancouver Coastal</td>\n",
              "      <td>BC</td>\n",
              "      <td>Canada</td>\n",
              "      <td>2020-03-03</td>\n",
              "      <td>2020-03-01</td>\n",
              "      <td>t</td>\n",
              "      <td>NaN</td>\n",
              "      <td>https://news.gov.bc.ca/releases/2020HLTH0058-0...</td>\n",
              "    </tr>\n",
              "    <tr>\n",
              "      <th>33</th>\n",
              "      <td>NaN</td>\n",
              "      <td>13</td>\n",
              "      <td>80-89</td>\n",
              "      <td>Female</td>\n",
              "      <td>Vancouver Coastal</td>\n",
              "      <td>BC</td>\n",
              "      <td>Canada</td>\n",
              "      <td>2020-03-04</td>\n",
              "      <td>2020-03-01</td>\n",
              "      <td>t</td>\n",
              "      <td>NaN</td>\n",
              "      <td>https://news.gov.bc.ca/releases/2020HLTH0060-0...</td>\n",
              "    </tr>\n",
              "    <tr>\n",
              "      <th>36</th>\n",
              "      <td>NaN</td>\n",
              "      <td>22</td>\n",
              "      <td>60-69</td>\n",
              "      <td>Male</td>\n",
              "      <td>Toronto</td>\n",
              "      <td>Ontario</td>\n",
              "      <td>Canada</td>\n",
              "      <td>2020-03-05</td>\n",
              "      <td>2020-03-01</td>\n",
              "      <td>t</td>\n",
              "      <td>NaN</td>\n",
              "      <td>https://news.ontario.ca/mohltc/en/2020/03/onta...</td>\n",
              "    </tr>\n",
              "    <tr>\n",
              "      <th>39</th>\n",
              "      <td>NaN</td>\n",
              "      <td>15</td>\n",
              "      <td>30-39</td>\n",
              "      <td>Male</td>\n",
              "      <td>Vancouver Coastal</td>\n",
              "      <td>BC</td>\n",
              "      <td>Canada</td>\n",
              "      <td>2020-03-05</td>\n",
              "      <td>2020-03-01</td>\n",
              "      <td>f</td>\n",
              "      <td>Close Contact</td>\n",
              "      <td>https://news.gov.bc.ca/releases/2020HLTH0062-0...</td>\n",
              "    </tr>\n",
              "    <tr>\n",
              "      <th>42</th>\n",
              "      <td>NaN</td>\n",
              "      <td>18</td>\n",
              "      <td>50-59</td>\n",
              "      <td>Female</td>\n",
              "      <td>Vancouver Coastal</td>\n",
              "      <td>BC</td>\n",
              "      <td>Canada</td>\n",
              "      <td>2020-03-05</td>\n",
              "      <td>2020-03-01</td>\n",
              "      <td>t</td>\n",
              "      <td>NaN</td>\n",
              "      <td>https://news.gov.bc.ca/releases/2020HLTH0062-0...</td>\n",
              "    </tr>\n",
              "    <tr>\n",
              "      <th>45</th>\n",
              "      <td>NaN</td>\n",
              "      <td>21</td>\n",
              "      <td>50-59</td>\n",
              "      <td>Female</td>\n",
              "      <td>Fraser</td>\n",
              "      <td>BC</td>\n",
              "      <td>Canada</td>\n",
              "      <td>2020-03-05</td>\n",
              "      <td>2020-03-01</td>\n",
              "      <td>f</td>\n",
              "      <td>Community</td>\n",
              "      <td>https://news.gov.bc.ca/releases/2020HLTH0062-0...</td>\n",
              "    </tr>\n",
              "    <tr>\n",
              "      <th>48</th>\n",
              "      <td>NaN</td>\n",
              "      <td>25</td>\n",
              "      <td>50-59</td>\n",
              "      <td>Male</td>\n",
              "      <td>Toronto</td>\n",
              "      <td>Ontario</td>\n",
              "      <td>Canada</td>\n",
              "      <td>2020-03-06</td>\n",
              "      <td>2020-03-01</td>\n",
              "      <td>t</td>\n",
              "      <td>NaN</td>\n",
              "      <td>https://news.ontario.ca/mohltc/en/2020/03/onta...</td>\n",
              "    </tr>\n",
              "    <tr>\n",
              "      <th>51</th>\n",
              "      <td>NaN</td>\n",
              "      <td>27</td>\n",
              "      <td>20-29</td>\n",
              "      <td>Male</td>\n",
              "      <td>Toronto</td>\n",
              "      <td>Ontario</td>\n",
              "      <td>Canada</td>\n",
              "      <td>2020-03-06</td>\n",
              "      <td>2020-03-01</td>\n",
              "      <td>t</td>\n",
              "      <td>NaN</td>\n",
              "      <td>https://news.ontario.ca/mohltc/en/2020/03/onta...</td>\n",
              "    </tr>\n",
              "    <tr>\n",
              "      <th>54</th>\n",
              "      <td>NaN</td>\n",
              "      <td>22</td>\n",
              "      <td>50-59</td>\n",
              "      <td>Male</td>\n",
              "      <td>Fraser</td>\n",
              "      <td>BC</td>\n",
              "      <td>Canada</td>\n",
              "      <td>2020-03-07</td>\n",
              "      <td>2020-03-01</td>\n",
              "      <td>t</td>\n",
              "      <td>NaN</td>\n",
              "      <td>https://news.gov.bc.ca/releases/2020HLTH0064-0...</td>\n",
              "    </tr>\n",
              "    <tr>\n",
              "      <th>57</th>\n",
              "      <td>NaN</td>\n",
              "      <td>25</td>\n",
              "      <td>50-59</td>\n",
              "      <td>Female</td>\n",
              "      <td>Fraser</td>\n",
              "      <td>BC</td>\n",
              "      <td>Canada</td>\n",
              "      <td>2020-03-07</td>\n",
              "      <td>2020-03-01</td>\n",
              "      <td>f</td>\n",
              "      <td>Close Contact</td>\n",
              "      <td>https://news.gov.bc.ca/releases/2020HLTH0064-0...</td>\n",
              "    </tr>\n",
              "    <tr>\n",
              "      <th>60</th>\n",
              "      <td>NaN</td>\n",
              "      <td>29</td>\n",
              "      <td>40-49</td>\n",
              "      <td>Female</td>\n",
              "      <td>Toronto</td>\n",
              "      <td>Ontario</td>\n",
              "      <td>Canada</td>\n",
              "      <td>2020-03-08</td>\n",
              "      <td>2020-03-08</td>\n",
              "      <td>t</td>\n",
              "      <td>NaN</td>\n",
              "      <td>https://news.ontario.ca/mohltc/en/2020/03/onta...</td>\n",
              "    </tr>\n",
              "    <tr>\n",
              "      <th>63</th>\n",
              "      <td>NaN</td>\n",
              "      <td>4</td>\n",
              "      <td>30-39</td>\n",
              "      <td>Female</td>\n",
              "      <td>Calgary</td>\n",
              "      <td>Alberta</td>\n",
              "      <td>Canada</td>\n",
              "      <td>2020-03-08</td>\n",
              "      <td>2020-03-08</td>\n",
              "      <td>f</td>\n",
              "      <td>Close Contact</td>\n",
              "      <td>https://globalnews.ca/news/6647035/new-presump...</td>\n",
              "    </tr>\n",
              "    <tr>\n",
              "      <th>66</th>\n",
              "      <td>NaN</td>\n",
              "      <td>32</td>\n",
              "      <td>50-59</td>\n",
              "      <td>Male</td>\n",
              "      <td>Peel</td>\n",
              "      <td>Ontario</td>\n",
              "      <td>Canada</td>\n",
              "      <td>2020-03-08</td>\n",
              "      <td>2020-03-08</td>\n",
              "      <td>t</td>\n",
              "      <td>NaN</td>\n",
              "      <td>https://peelregion.ca/news/archiveitem.asp?yea...</td>\n",
              "    </tr>\n",
              "    <tr>\n",
              "      <th>69</th>\n",
              "      <td>NaN</td>\n",
              "      <td>28</td>\n",
              "      <td>10-19</td>\n",
              "      <td>Male</td>\n",
              "      <td>Fraser</td>\n",
              "      <td>BC</td>\n",
              "      <td>Canada</td>\n",
              "      <td>2020-03-09</td>\n",
              "      <td>2020-03-08</td>\n",
              "      <td>f</td>\n",
              "      <td>Close Contact</td>\n",
              "      <td>https://news.gov.bc.ca/releases/2020HLTH0068-0...</td>\n",
              "    </tr>\n",
              "    <tr>\n",
              "      <th>72</th>\n",
              "      <td>NaN</td>\n",
              "      <td>31</td>\n",
              "      <td>50-59</td>\n",
              "      <td>Female</td>\n",
              "      <td>Vancouver Coastal</td>\n",
              "      <td>BC</td>\n",
              "      <td>Canada</td>\n",
              "      <td>2020-03-09</td>\n",
              "      <td>2020-03-08</td>\n",
              "      <td>t</td>\n",
              "      <td>NaN</td>\n",
              "      <td>https://news.gov.bc.ca/releases/2020HLTH0068-0...</td>\n",
              "    </tr>\n",
              "    <tr>\n",
              "      <th>75</th>\n",
              "      <td>NaN</td>\n",
              "      <td>6</td>\n",
              "      <td>30-39</td>\n",
              "      <td>Male</td>\n",
              "      <td>Calgary</td>\n",
              "      <td>Alberta</td>\n",
              "      <td>Canada</td>\n",
              "      <td>2020-03-09</td>\n",
              "      <td>2020-03-08</td>\n",
              "      <td>t</td>\n",
              "      <td>NaN</td>\n",
              "      <td>https://www.alberta.ca/release.cfm?xID=6876985...</td>\n",
              "    </tr>\n",
              "    <tr>\n",
              "      <th>78</th>\n",
              "      <td>NaN</td>\n",
              "      <td>5</td>\n",
              "      <td>Not Reported</td>\n",
              "      <td>Male</td>\n",
              "      <td>Montréal</td>\n",
              "      <td>Quebec</td>\n",
              "      <td>Canada</td>\n",
              "      <td>2020-03-09</td>\n",
              "      <td>2020-03-08</td>\n",
              "      <td>t</td>\n",
              "      <td>NaN</td>\n",
              "      <td>https://www.msss.gouv.qc.ca/ministere/salle-de...</td>\n",
              "    </tr>\n",
              "    <tr>\n",
              "      <th>81</th>\n",
              "      <td>NaN</td>\n",
              "      <td>9</td>\n",
              "      <td>60-69</td>\n",
              "      <td>Female</td>\n",
              "      <td>Edmonton</td>\n",
              "      <td>Alberta</td>\n",
              "      <td>Canada</td>\n",
              "      <td>2020-03-09</td>\n",
              "      <td>2020-03-08</td>\n",
              "      <td>t</td>\n",
              "      <td>NaN</td>\n",
              "      <td>https://www.alberta.ca/release.cfm?xID=68785BC...</td>\n",
              "    </tr>\n",
              "    <tr>\n",
              "      <th>84</th>\n",
              "      <td>NaN</td>\n",
              "      <td>12</td>\n",
              "      <td>30-39</td>\n",
              "      <td>Female</td>\n",
              "      <td>Calgary</td>\n",
              "      <td>Alberta</td>\n",
              "      <td>Canada</td>\n",
              "      <td>2020-03-09</td>\n",
              "      <td>2020-03-08</td>\n",
              "      <td>t</td>\n",
              "      <td>NaN</td>\n",
              "      <td>https://www.alberta.ca/release.cfm?xID=68785BC...</td>\n",
              "    </tr>\n",
              "    <tr>\n",
              "      <th>87</th>\n",
              "      <td>NaN</td>\n",
              "      <td>33</td>\n",
              "      <td>40-49</td>\n",
              "      <td>Female</td>\n",
              "      <td>Vancouver Coastal</td>\n",
              "      <td>BC</td>\n",
              "      <td>Canada</td>\n",
              "      <td>2020-03-10</td>\n",
              "      <td>2020-03-08</td>\n",
              "      <td>f</td>\n",
              "      <td>Close Contact</td>\n",
              "      <td>https://news.gov.bc.ca/releases/2020HLTH0072-0...</td>\n",
              "    </tr>\n",
              "    <tr>\n",
              "      <th>90</th>\n",
              "      <td>NaN</td>\n",
              "      <td>36</td>\n",
              "      <td>90-99</td>\n",
              "      <td>Male</td>\n",
              "      <td>Vancouver Coastal</td>\n",
              "      <td>BC</td>\n",
              "      <td>Canada</td>\n",
              "      <td>2020-03-10</td>\n",
              "      <td>2020-03-08</td>\n",
              "      <td>t</td>\n",
              "      <td>NaN</td>\n",
              "      <td>https://news.gov.bc.ca/releases/2020HLTH0072-0...</td>\n",
              "    </tr>\n",
              "    <tr>\n",
              "      <th>93</th>\n",
              "      <td>NaN</td>\n",
              "      <td>39</td>\n",
              "      <td>40-49</td>\n",
              "      <td>Male</td>\n",
              "      <td>Fraser</td>\n",
              "      <td>BC</td>\n",
              "      <td>Canada</td>\n",
              "      <td>2020-03-10</td>\n",
              "      <td>2020-03-08</td>\n",
              "      <td>f</td>\n",
              "      <td>Community</td>\n",
              "      <td>https://news.gov.bc.ca/releases/2020HLTH0072-0...</td>\n",
              "    </tr>\n",
              "    <tr>\n",
              "      <th>96</th>\n",
              "      <td>NaN</td>\n",
              "      <td>39</td>\n",
              "      <td>30-39</td>\n",
              "      <td>Male</td>\n",
              "      <td>Toronto</td>\n",
              "      <td>Ontario</td>\n",
              "      <td>Canada</td>\n",
              "      <td>2020-03-11</td>\n",
              "      <td>2020-03-08</td>\n",
              "      <td>t</td>\n",
              "      <td>NaN</td>\n",
              "      <td>https://www.ontario.ca/page/2019-novel-coronav...</td>\n",
              "    </tr>\n",
              "    <tr>\n",
              "      <th>99</th>\n",
              "      <td>NaN</td>\n",
              "      <td>6</td>\n",
              "      <td>Not Reported</td>\n",
              "      <td>Not Reported</td>\n",
              "      <td>Montréal</td>\n",
              "      <td>Quebec</td>\n",
              "      <td>Canada</td>\n",
              "      <td>2020-03-11</td>\n",
              "      <td>2020-03-08</td>\n",
              "      <td>t</td>\n",
              "      <td>NaN</td>\n",
              "      <td>(1) https://www.lapresse.ca/covid-19/202003/11...</td>\n",
              "    </tr>\n",
              "  </tbody>\n",
              "</table>\n",
              "</div>"
            ],
            "text/plain": [
              "    case_id  ...                                        case_source\n",
              "0       NaN  ...  (1) https://news.ontario.ca/mohltc/en/2020/01/...\n",
              "3       NaN  ...  (1) https://news.ontario.ca/mohltc/en/2020/01/...\n",
              "6       NaN  ...  https://news.gov.bc.ca/releases/2020HLTH0025-0...\n",
              "9       NaN  ...  (1) https://news.ontario.ca/mohltc/en/2020/02/...\n",
              "12      NaN  ...  (1) https://news.ontario.ca/mohltc/en/2020/02/...\n",
              "15      NaN  ...  https://news.ontario.ca/mohltc/en/2020/02/onta...\n",
              "18      NaN  ...  https://news.ontario.ca/mohltc/en/2020/02/onta...\n",
              "21      NaN  ...  https://news.ontario.ca/mohltc/en/2020/03/onta...\n",
              "24      NaN  ...  https://toronto.ctvnews.ca/three-new-cases-of-...\n",
              "27      NaN  ...  (1) https://news.ontario.ca/mohltc/en/2020/03/...\n",
              "30      NaN  ...  https://news.gov.bc.ca/releases/2020HLTH0058-0...\n",
              "33      NaN  ...  https://news.gov.bc.ca/releases/2020HLTH0060-0...\n",
              "36      NaN  ...  https://news.ontario.ca/mohltc/en/2020/03/onta...\n",
              "39      NaN  ...  https://news.gov.bc.ca/releases/2020HLTH0062-0...\n",
              "42      NaN  ...  https://news.gov.bc.ca/releases/2020HLTH0062-0...\n",
              "45      NaN  ...  https://news.gov.bc.ca/releases/2020HLTH0062-0...\n",
              "48      NaN  ...  https://news.ontario.ca/mohltc/en/2020/03/onta...\n",
              "51      NaN  ...  https://news.ontario.ca/mohltc/en/2020/03/onta...\n",
              "54      NaN  ...  https://news.gov.bc.ca/releases/2020HLTH0064-0...\n",
              "57      NaN  ...  https://news.gov.bc.ca/releases/2020HLTH0064-0...\n",
              "60      NaN  ...  https://news.ontario.ca/mohltc/en/2020/03/onta...\n",
              "63      NaN  ...  https://globalnews.ca/news/6647035/new-presump...\n",
              "66      NaN  ...  https://peelregion.ca/news/archiveitem.asp?yea...\n",
              "69      NaN  ...  https://news.gov.bc.ca/releases/2020HLTH0068-0...\n",
              "72      NaN  ...  https://news.gov.bc.ca/releases/2020HLTH0068-0...\n",
              "75      NaN  ...  https://www.alberta.ca/release.cfm?xID=6876985...\n",
              "78      NaN  ...  https://www.msss.gouv.qc.ca/ministere/salle-de...\n",
              "81      NaN  ...  https://www.alberta.ca/release.cfm?xID=68785BC...\n",
              "84      NaN  ...  https://www.alberta.ca/release.cfm?xID=68785BC...\n",
              "87      NaN  ...  https://news.gov.bc.ca/releases/2020HLTH0072-0...\n",
              "90      NaN  ...  https://news.gov.bc.ca/releases/2020HLTH0072-0...\n",
              "93      NaN  ...  https://news.gov.bc.ca/releases/2020HLTH0072-0...\n",
              "96      NaN  ...  https://www.ontario.ca/page/2019-novel-coronav...\n",
              "99      NaN  ...  (1) https://www.lapresse.ca/covid-19/202003/11...\n",
              "\n",
              "[34 rows x 12 columns]"
            ]
          },
          "metadata": {
            "tags": []
          },
          "execution_count": 34
        }
      ]
    },
    {
      "cell_type": "code",
      "metadata": {
        "colab": {
          "base_uri": "https://localhost:8080/"
        },
        "id": "x1Ofr8rwjSC5",
        "outputId": "a559b5b3-bd2e-4ed1-d3ee-8c19250d6902"
      },
      "source": [
        "#Contagem de registros\n",
        "amostra.info()"
      ],
      "execution_count": null,
      "outputs": [
        {
          "output_type": "stream",
          "text": [
            "<class 'pandas.core.frame.DataFrame'>\n",
            "Int64Index: 34 entries, 0 to 99\n",
            "Data columns (total 12 columns):\n",
            " #   Column              Non-Null Count  Dtype  \n",
            "---  ------              --------------  -----  \n",
            " 0   case_id             0 non-null      float64\n",
            " 1   provincial_case_id  34 non-null     int64  \n",
            " 2   age                 34 non-null     object \n",
            " 3   sex                 34 non-null     object \n",
            " 4   health_region       34 non-null     object \n",
            " 5   province            34 non-null     object \n",
            " 6   country             34 non-null     object \n",
            " 7   date_report         34 non-null     object \n",
            " 8   report_week         34 non-null     object \n",
            " 9   has_travel_history  34 non-null     object \n",
            " 10  locally_acquired    9 non-null      object \n",
            " 11  case_source         34 non-null     object \n",
            "dtypes: float64(1), int64(1), object(10)\n",
            "memory usage: 3.5+ KB\n"
          ],
          "name": "stdout"
        }
      ]
    },
    {
      "cell_type": "markdown",
      "metadata": {
        "id": "4_Z_JiWuvukP"
      },
      "source": [
        "# Medidas de Posição e Tendência Central"
      ]
    },
    {
      "cell_type": "code",
      "metadata": {
        "id": "lFs13dM7jmIZ"
      },
      "source": [
        "import numpy as np\n",
        "import matplotlib.pyplot as plt\n",
        "from cycler import cycler"
      ],
      "execution_count": null,
      "outputs": []
    },
    {
      "cell_type": "code",
      "metadata": {
        "id": "62ev_P0DwUNE"
      },
      "source": [
        "from scipy.stats.mstats import gmean,hmean\n",
        "from scipy import stats"
      ],
      "execution_count": null,
      "outputs": []
    },
    {
      "cell_type": "code",
      "metadata": {
        "id": "jR72IF_fweY-"
      },
      "source": [
        "dados = [1,2,5,3,4]"
      ],
      "execution_count": null,
      "outputs": []
    },
    {
      "cell_type": "code",
      "metadata": {
        "colab": {
          "base_uri": "https://localhost:8080/"
        },
        "id": "zziM2_ufxDwL",
        "outputId": "ce495b9a-c46b-4e74-9896-a8363fcb5b5a"
      },
      "source": [
        "np.mean(dados)"
      ],
      "execution_count": null,
      "outputs": [
        {
          "output_type": "execute_result",
          "data": {
            "text/plain": [
              "3.0"
            ]
          },
          "metadata": {
            "tags": []
          },
          "execution_count": 5
        }
      ]
    },
    {
      "cell_type": "code",
      "metadata": {
        "colab": {
          "base_uri": "https://localhost:8080/"
        },
        "id": "Lw5bGKtUxF3D",
        "outputId": "17f05444-05fa-4870-b816-fe1c9e6ea396"
      },
      "source": [
        "gmean(dados)"
      ],
      "execution_count": null,
      "outputs": [
        {
          "output_type": "execute_result",
          "data": {
            "text/plain": [
              "2.6051710846973517"
            ]
          },
          "metadata": {
            "tags": []
          },
          "execution_count": 6
        }
      ]
    },
    {
      "cell_type": "code",
      "metadata": {
        "colab": {
          "base_uri": "https://localhost:8080/"
        },
        "id": "9XhQD8edxL_2",
        "outputId": "f5b1a801-6ab7-4f56-83f6-a6508cbec94e"
      },
      "source": [
        "hmean(dados)"
      ],
      "execution_count": null,
      "outputs": [
        {
          "output_type": "execute_result",
          "data": {
            "text/plain": [
              "2.18978102189781"
            ]
          },
          "metadata": {
            "tags": []
          },
          "execution_count": 7
        }
      ]
    },
    {
      "cell_type": "code",
      "metadata": {
        "id": "TBoRXvStxm21"
      },
      "source": [
        "def plot_lines(dados, valor_central):\n",
        "  if valor_central in dados:\n",
        "    posicao_central = dados.index(valor_central)+1\n",
        "  else:\n",
        "    dados.append(valor_central)\n",
        "    dados.sort()\n",
        "    posicao_central = dados.index(valor_central)+1\n",
        "  \n",
        "  posicoes = np.arange(1,len(dados)+1,1)\n",
        "  plt.figure(figsize=(8,6))\n",
        "  plt.plot(posicoes,dados,'o-', color='red',ms=15)\n",
        "  plt.plot(posicao_central, valor_central, 'o-',color='blue',ms=15)\n",
        "  plt.show()"
      ],
      "execution_count": null,
      "outputs": []
    },
    {
      "cell_type": "code",
      "metadata": {
        "id": "97s1mIPjzW6x"
      },
      "source": [
        "def plot_line_means(dados, mean, gmean,hmean):\n",
        "  posicoes_centrais=[]\n",
        "  y=[]\n",
        "  x = dados\n",
        "  \n",
        "  for m in [mean,gmean,hmean]:\n",
        "    x.append(m)\n",
        "  \n",
        "  x.sort()\n",
        "  for m in [mean,gmean,hmean]:\n",
        "    if m in x:\n",
        "      posicoes_centrais.append(x.index(m)+1)\n",
        "  \n",
        "  print(\"Dados: {}\".format(x))\n",
        "  print(\"Media aritmética: {}, Média Geométrica: {}, Média Harmonica: {}\".format(mean,gmean,hmean))\n",
        "  \n",
        "  y = np.arange(1,len(x)+1,1)\n",
        "  \n",
        "  plt.figure(figsize=(8,6))\n",
        "  plt.rc('axes', prop_cycle=(cycler('color', ['r', 'g', 'b'])))\n",
        "  plt.plot(y,x,'o-', color='black',ms=15)\n",
        "  medias = ['MA','MG','MH'] \n",
        "  i=0\n",
        "  for posicao_central,valor_central in zip(posicoes_centrais,[mean,gmean,hmean]):\n",
        "    plt.plot(posicao_central, valor_central, 'o-',ms=15)\n",
        "    plt.text(x=posicao_central+0.2, y=valor_central+0.2, s=medias[i], alpha=0.7, color='#334f8d')\n",
        "    i+=1\n",
        "\n",
        "  plt.show()"
      ],
      "execution_count": null,
      "outputs": []
    },
    {
      "cell_type": "code",
      "metadata": {
        "id": "F1fU1p1Yzdrx"
      },
      "source": [
        "def plot_lines_horizontal(dados,valor_central):\n",
        "  plt.figure(figsize=(10,6))\n",
        "  y = 0\n",
        "  plt.hlines(y, min(dados), max(dados))\n",
        "  for n in dados:\n",
        "    if n == valor_central:\n",
        "      plt.plot(n,y, 'o', ms = 15, color='blue')\n",
        "      continue  \n",
        "    plt.plot(n,y, 'o', ms = 15, color = 'red')"
      ],
      "execution_count": null,
      "outputs": []
    },
    {
      "cell_type": "code",
      "metadata": {
        "id": "GsX6MpyZzhIM"
      },
      "source": [
        "dados_linear = [1,4,7,10,13,16,19]"
      ],
      "execution_count": null,
      "outputs": []
    },
    {
      "cell_type": "code",
      "metadata": {
        "id": "uS2K28NazugH"
      },
      "source": [
        "media = int(np.mean(dados_linear))"
      ],
      "execution_count": null,
      "outputs": []
    },
    {
      "cell_type": "code",
      "metadata": {
        "colab": {
          "base_uri": "https://localhost:8080/",
          "height": 374
        },
        "id": "0UlMLhFAz_Ie",
        "outputId": "2f4ba2b1-cfe0-433b-fc1d-7f4b5b431b37"
      },
      "source": [
        "plot_lines(dados_linear, media)"
      ],
      "execution_count": null,
      "outputs": [
        {
          "output_type": "display_data",
          "data": {
            "image/png": "[encoded data removed]",
            "text/plain": [
              "<Figure size 576x432 with 1 Axes>"
            ]
          },
          "metadata": {
            "tags": [],
            "needs_background": "light"
          }
        }
      ]
    },
    {
      "cell_type": "code",
      "metadata": {
        "colab": {
          "base_uri": "https://localhost:8080/",
          "height": 374
        },
        "id": "9BA_irAH0Jw7",
        "outputId": "3e8d163d-9896-454d-b00f-e9c4f31a4328"
      },
      "source": [
        "plot_lines_horizontal(dados_linear, media)"
      ],
      "execution_count": null,
      "outputs": [
        {
          "output_type": "display_data",
          "data": {
            "image/png": "[encoded data removed]",
            "text/plain": [
              "<Figure size 720x432 with 1 Axes>"
            ]
          },
          "metadata": {
            "tags": [],
            "needs_background": "light"
          }
        }
      ]
    },
    {
      "cell_type": "code",
      "metadata": {
        "id": "3rGeq8Lr0W1y"
      },
      "source": [
        "dados_exponencial=[1, 3, 9, 27, 81, 243, 729]"
      ],
      "execution_count": null,
      "outputs": []
    },
    {
      "cell_type": "code",
      "metadata": {
        "id": "QoWaky520lEa"
      },
      "source": [
        "media = int(np.mean(dados_exponencial))"
      ],
      "execution_count": null,
      "outputs": []
    },
    {
      "cell_type": "code",
      "metadata": {
        "colab": {
          "base_uri": "https://localhost:8080/"
        },
        "id": "XRTDiVfu0-9U",
        "outputId": "4b5675e6-8b99-40fc-d330-8330a7430ffa"
      },
      "source": [
        "print('Valor da média aritmética: {}'.format(media))"
      ],
      "execution_count": null,
      "outputs": [
        {
          "output_type": "stream",
          "text": [
            "Valor da média aritmética: 156\n"
          ],
          "name": "stdout"
        }
      ]
    },
    {
      "cell_type": "code",
      "metadata": {
        "colab": {
          "base_uri": "https://localhost:8080/",
          "height": 374
        },
        "id": "dUXJaRLH1FGj",
        "outputId": "25571b68-07fd-4314-a3a3-2bcc6012723d"
      },
      "source": [
        "plot_lines(dados_exponencial, media)"
      ],
      "execution_count": null,
      "outputs": [
        {
          "output_type": "display_data",
          "data": {
            "image/png": "[encoded data removed]",
            "text/plain": [
              "<Figure size 576x432 with 1 Axes>"
            ]
          },
          "metadata": {
            "tags": [],
            "needs_background": "light"
          }
        }
      ]
    },
    {
      "cell_type": "code",
      "metadata": {
        "colab": {
          "base_uri": "https://localhost:8080/",
          "height": 374
        },
        "id": "AczCjNoj1UqC",
        "outputId": "c36d7963-18c5-4907-b03e-364ea681971f"
      },
      "source": [
        "plot_lines_horizontal(dados_exponencial, media)"
      ],
      "execution_count": null,
      "outputs": [
        {
          "output_type": "display_data",
          "data": {
            "image/png": "[encoded data removed]",
            "text/plain": [
              "<Figure size 720x432 with 1 Axes>"
            ]
          },
          "metadata": {
            "tags": [],
            "needs_background": "light"
          }
        }
      ]
    },
    {
      "cell_type": "code",
      "metadata": {
        "id": "2SXrL6461hnL"
      },
      "source": [
        "media_geo = int(gmean(dados_exponencial))"
      ],
      "execution_count": null,
      "outputs": []
    },
    {
      "cell_type": "code",
      "metadata": {
        "colab": {
          "base_uri": "https://localhost:8080/"
        },
        "id": "GMTROY8G15ip",
        "outputId": "e7640040-f1f6-4717-c9fe-1b5c0669e0cf"
      },
      "source": [
        "print('Valor da média geométrica: {}'.format(media_geo))"
      ],
      "execution_count": null,
      "outputs": [
        {
          "output_type": "stream",
          "text": [
            "Valor da média geométrica: 33\n"
          ],
          "name": "stdout"
        }
      ]
    },
    {
      "cell_type": "code",
      "metadata": {
        "colab": {
          "base_uri": "https://localhost:8080/",
          "height": 374
        },
        "id": "taI8u5qb1_Hn",
        "outputId": "9a1a6933-8ccd-4493-fa0f-a6d43d524e31"
      },
      "source": [
        "plot_lines(dados_exponencial, media_geo)"
      ],
      "execution_count": null,
      "outputs": [
        {
          "output_type": "display_data",
          "data": {
            "image/png": "[encoded data removed]",
            "text/plain": [
              "<Figure size 576x432 with 1 Axes>"
            ]
          },
          "metadata": {
            "tags": [],
            "needs_background": "light"
          }
        }
      ]
    },
    {
      "cell_type": "code",
      "metadata": {
        "colab": {
          "base_uri": "https://localhost:8080/",
          "height": 374
        },
        "id": "Z2IcIj9V2IRy",
        "outputId": "35bd212b-24c6-4175-ebb9-8166c3c11130"
      },
      "source": [
        "plot_lines_horizontal(dados_exponencial, media_geo)"
      ],
      "execution_count": null,
      "outputs": [
        {
          "output_type": "display_data",
          "data": {
            "image/png": "[encoded data removed]",
            "text/plain": [
              "<Figure size 720x432 with 1 Axes>"
            ]
          },
          "metadata": {
            "tags": [],
            "needs_background": "light"
          }
        }
      ]
    },
    {
      "cell_type": "markdown",
      "metadata": {
        "id": "2uvvGwir_bht"
      },
      "source": [
        "# Comparando as Médias em um Cenário Real"
      ]
    },
    {
      "cell_type": "markdown",
      "metadata": {
        "id": "yRXXsaJa___s"
      },
      "source": [
        "**Calculando a média aritmética**"
      ]
    },
    {
      "cell_type": "code",
      "metadata": {
        "id": "7MBRrHCQ_-TZ"
      },
      "source": [
        "aval_gramado,aval_curitiba = 3.5,4.5\n",
        "indice_gramado,indice_curitiba =89,75"
      ],
      "execution_count": null,
      "outputs": []
    },
    {
      "cell_type": "code",
      "metadata": {
        "colab": {
          "base_uri": "https://localhost:8080/"
        },
        "id": "hr735bWfAM7r",
        "outputId": "93f82eac-662e-441d-fd32-ca33f32349ff"
      },
      "source": [
        "print(\"Média para Gramado: {}\".format(np.mean([aval_gramado,indice_gramado])))\n",
        "print(\"Média para Curitiba: {}\".format(np.mean([aval_curitiba,indice_curitiba])))"
      ],
      "execution_count": null,
      "outputs": [
        {
          "output_type": "stream",
          "text": [
            "Média para Gramado: 46.25\n",
            "Média para Curitiba: 39.75\n"
          ],
          "name": "stdout"
        }
      ]
    },
    {
      "cell_type": "markdown",
      "metadata": {
        "id": "aaF61B7xBUd4"
      },
      "source": [
        "**Reescalonando os dados de avaliação para os dados de índice de satisfação**"
      ]
    },
    {
      "cell_type": "code",
      "metadata": {
        "colab": {
          "base_uri": "https://localhost:8080/"
        },
        "id": "oxduNC14Arn7",
        "outputId": "a9472b82-d734-453a-cefa-f8575d672479"
      },
      "source": [
        "print(\"Valores reescalonados: {},{}\".format(aval_gramado*20,aval_curitiba*20))"
      ],
      "execution_count": null,
      "outputs": [
        {
          "output_type": "stream",
          "text": [
            "Valores reescalonados: 70.0,90.0\n"
          ],
          "name": "stdout"
        }
      ]
    },
    {
      "cell_type": "code",
      "metadata": {
        "colab": {
          "base_uri": "https://localhost:8080/"
        },
        "id": "MT3Jgig0BoV7",
        "outputId": "603c9150-b1a2-453b-f480-0c15c519cae5"
      },
      "source": [
        "print(\"Média para Gramado: {}\".format(np.mean([aval_gramado*20,indice_gramado])))\n",
        "print(\"Média para Curitiba: {}\".format(np.mean([aval_curitiba*20,indice_curitiba])))"
      ],
      "execution_count": null,
      "outputs": [
        {
          "output_type": "stream",
          "text": [
            "Média para Gramado: 79.5\n",
            "Média para Curitiba: 82.5\n"
          ],
          "name": "stdout"
        }
      ]
    },
    {
      "cell_type": "code",
      "metadata": {
        "colab": {
          "base_uri": "https://localhost:8080/"
        },
        "id": "w9bsXWBpCc55",
        "outputId": "f9d71a66-7e09-4293-af59-23ef13c89553"
      },
      "source": [
        "#Mesmo cenário com a média geométrica\n",
        "print(\"Média para Gramado: {}\".format(gmean([aval_gramado,indice_gramado])))\n",
        "print(\"Média para Curitiba: {}\".format(gmean([aval_curitiba,indice_curitiba])))"
      ],
      "execution_count": null,
      "outputs": [
        {
          "output_type": "stream",
          "text": [
            "Média para Gramado: 17.64936259472279\n",
            "Média para Curitiba: 18.371173070873837\n"
          ],
          "name": "stdout"
        }
      ]
    },
    {
      "cell_type": "markdown",
      "metadata": {
        "id": "alh_jz2SS_Sk"
      },
      "source": [
        "Percurso total da viagem 10 km\n",
        "*   Caminho de ida = 30 km/h\n",
        "*   Caminho de volta = 10 km/h\n",
        "\n"
      ]
    },
    {
      "cell_type": "code",
      "metadata": {
        "colab": {
          "base_uri": "https://localhost:8080/"
        },
        "id": "VWJ73IfUSFt9",
        "outputId": "31d0e454-c5f9-4aa9-b150-d8889ccad544"
      },
      "source": [
        "#Usando a média aritmética\n",
        "np.mean([30,10])"
      ],
      "execution_count": null,
      "outputs": [
        {
          "output_type": "execute_result",
          "data": {
            "text/plain": [
              "20.0"
            ]
          },
          "metadata": {
            "tags": []
          },
          "execution_count": 31
        }
      ]
    },
    {
      "cell_type": "code",
      "metadata": {
        "colab": {
          "base_uri": "https://localhost:8080/"
        },
        "id": "A7sCV2wcTQpi",
        "outputId": "5f1b8d5a-6422-427a-f5ea-2b4e9d839eba"
      },
      "source": [
        "#Média aritmética ponderada\n",
        "np.average([30,10], weights=[.25, .75])"
      ],
      "execution_count": null,
      "outputs": [
        {
          "output_type": "execute_result",
          "data": {
            "text/plain": [
              "15.0"
            ]
          },
          "metadata": {
            "tags": []
          },
          "execution_count": 32
        }
      ]
    },
    {
      "cell_type": "code",
      "metadata": {
        "colab": {
          "base_uri": "https://localhost:8080/"
        },
        "id": "EmZ5bOz2UC6P",
        "outputId": "2c6e5b78-a850-4102-8a1e-c34dc583e021"
      },
      "source": [
        "hmean([30,10])"
      ],
      "execution_count": null,
      "outputs": [
        {
          "output_type": "execute_result",
          "data": {
            "text/plain": [
              "15.0"
            ]
          },
          "metadata": {
            "tags": []
          },
          "execution_count": 33
        }
      ]
    },
    {
      "cell_type": "markdown",
      "metadata": {
        "id": "pMAUeidxZefU"
      },
      "source": [
        "# Moda e Mediana"
      ]
    },
    {
      "cell_type": "markdown",
      "metadata": {
        "id": "e4vhC-bxa7Ax"
      },
      "source": [
        "**Dados com relacionamento aditivo**"
      ]
    },
    {
      "cell_type": "code",
      "metadata": {
        "id": "joomh4TGUJHP"
      },
      "source": [
        "dados = [1,4,7,10,13,16,19] #round = arredondamento"
      ],
      "execution_count": null,
      "outputs": []
    },
    {
      "cell_type": "code",
      "metadata": {
        "id": "AifYiHk5Z4Ie"
      },
      "source": [
        "media_aritmetica,media_geometrica,media_harmonica=round(np.mean(dados),2),round(gmean(dados),2),round(hmean(dados),2)"
      ],
      "execution_count": null,
      "outputs": []
    },
    {
      "cell_type": "code",
      "metadata": {
        "colab": {
          "base_uri": "https://localhost:8080/"
        },
        "id": "fTKgH6MBaQlm",
        "outputId": "5a5ebcd6-67ae-4825-d651-668649b53579"
      },
      "source": [
        "media_aritmetica,media_geometrica,media_harmonica"
      ],
      "execution_count": null,
      "outputs": [
        {
          "output_type": "execute_result",
          "data": {
            "text/plain": [
              "(10.0, 7.3, 4.15)"
            ]
          },
          "metadata": {
            "tags": []
          },
          "execution_count": 36
        }
      ]
    },
    {
      "cell_type": "code",
      "metadata": {
        "colab": {
          "base_uri": "https://localhost:8080/",
          "height": 410
        },
        "id": "hSgRal-Faa54",
        "outputId": "d55df21f-6dc9-4815-f570-72262faf61e6"
      },
      "source": [
        "plot_line_means(dados,media_aritmetica,media_geometrica,media_harmonica)"
      ],
      "execution_count": null,
      "outputs": [
        {
          "output_type": "stream",
          "text": [
            "Dados: [1, 4, 4.15, 7, 7.3, 10, 10.0, 13, 16, 19]\n",
            "Media aritmética: 10.0, Média Geométrica: 7.3, Média Harmonica: 4.15\n"
          ],
          "name": "stdout"
        },
        {
          "output_type": "display_data",
          "data": {
            "image/png": "[encoded data removed]",
            "text/plain": [
              "<Figure size 576x432 with 1 Axes>"
            ]
          },
          "metadata": {
            "tags": [],
            "needs_background": "light"
          }
        }
      ]
    },
    {
      "cell_type": "markdown",
      "metadata": {
        "id": "sCw7cUkxa_aZ"
      },
      "source": [
        "**Dados com relacionamento multiplicativo**"
      ]
    },
    {
      "cell_type": "code",
      "metadata": {
        "id": "jP69WEuYatAl"
      },
      "source": [
        "dados=[1,3,9,27,81,243,729]"
      ],
      "execution_count": null,
      "outputs": []
    },
    {
      "cell_type": "code",
      "metadata": {
        "id": "-0pX9gL6bJFA"
      },
      "source": [
        "media_aritmetica,media_geometrica,media_harmonica=round(np.mean(dados),2),round(gmean(dados),2),round(hmean(dados),2)"
      ],
      "execution_count": null,
      "outputs": []
    },
    {
      "cell_type": "code",
      "metadata": {
        "colab": {
          "base_uri": "https://localhost:8080/"
        },
        "id": "XdJnZsmQbMuQ",
        "outputId": "8ad872e4-6520-4aae-98cc-11bc634be9aa"
      },
      "source": [
        "media_aritmetica,media_geometrica,media_harmonica"
      ],
      "execution_count": null,
      "outputs": [
        {
          "output_type": "execute_result",
          "data": {
            "text/plain": [
              "(156.14, 27.0, 4.67)"
            ]
          },
          "metadata": {
            "tags": []
          },
          "execution_count": 40
        }
      ]
    },
    {
      "cell_type": "code",
      "metadata": {
        "colab": {
          "base_uri": "https://localhost:8080/",
          "height": 410
        },
        "id": "vO4JPEozbQLb",
        "outputId": "f9a8a26d-0229-45f9-f12b-117b2590ed17"
      },
      "source": [
        "plot_line_means(dados,media_aritmetica,media_geometrica,media_harmonica)"
      ],
      "execution_count": null,
      "outputs": [
        {
          "output_type": "stream",
          "text": [
            "Dados: [1, 3, 4.67, 9, 27, 27.0, 81, 156.14, 243, 729]\n",
            "Media aritmética: 156.14, Média Geométrica: 27.0, Média Harmonica: 4.67\n"
          ],
          "name": "stdout"
        },
        {
          "output_type": "display_data",
          "data": {
            "image/png": "[encoded data removed]",
            "text/plain": [
              "<Figure size 576x432 with 1 Axes>"
            ]
          },
          "metadata": {
            "tags": [],
            "needs_background": "light"
          }
        }
      ]
    },
    {
      "cell_type": "markdown",
      "metadata": {
        "id": "2THYWEb1bopa"
      },
      "source": [
        "**Moda - Valores mais frequentes da distribuição**"
      ]
    },
    {
      "cell_type": "code",
      "metadata": {
        "id": "AaRp_y2fbTn_"
      },
      "source": [
        "dados = [4,5,4,6,5,8,4]"
      ],
      "execution_count": null,
      "outputs": []
    },
    {
      "cell_type": "code",
      "metadata": {
        "colab": {
          "base_uri": "https://localhost:8080/"
        },
        "id": "ctX48Q3ObxCv",
        "outputId": "92ef39f8-de7e-43b6-c355-3d3185985643"
      },
      "source": [
        "stats.mode(dados)"
      ],
      "execution_count": null,
      "outputs": [
        {
          "output_type": "execute_result",
          "data": {
            "text/plain": [
              "ModeResult(mode=array([4]), count=array([3]))"
            ]
          },
          "metadata": {
            "tags": []
          },
          "execution_count": 43
        }
      ]
    },
    {
      "cell_type": "code",
      "metadata": {
        "id": "gYJvMMqEb0T1"
      },
      "source": [
        "dados_bimodal=[4,5,4,6,5,8,4,4,5,5]"
      ],
      "execution_count": null,
      "outputs": []
    },
    {
      "cell_type": "code",
      "metadata": {
        "id": "4a_mE11Fb_5j"
      },
      "source": [
        "from collections import Counter"
      ],
      "execution_count": null,
      "outputs": []
    },
    {
      "cell_type": "code",
      "metadata": {
        "id": "DlvFxcYFcDou"
      },
      "source": [
        "def calcula_moda(dados):\n",
        "  number_counts=Counter(dados)\n",
        "  print(number_counts)\n",
        "  modes=[val for val, count in number_counts.items() if count == max(number_counts.values())]\n",
        "  return modes"
      ],
      "execution_count": null,
      "outputs": []
    },
    {
      "cell_type": "code",
      "metadata": {
        "colab": {
          "base_uri": "https://localhost:8080/"
        },
        "id": "IM1wuAEcccHJ",
        "outputId": "57d9ba3d-6e18-40e0-87ec-ea1147b7fb8a"
      },
      "source": [
        "calcula_moda(dados_bimodal)"
      ],
      "execution_count": null,
      "outputs": [
        {
          "output_type": "stream",
          "text": [
            "Counter({4: 4, 5: 4, 6: 1, 8: 1})\n"
          ],
          "name": "stdout"
        },
        {
          "output_type": "execute_result",
          "data": {
            "text/plain": [
              "[4, 5]"
            ]
          },
          "metadata": {
            "tags": []
          },
          "execution_count": 49
        }
      ]
    },
    {
      "cell_type": "code",
      "metadata": {
        "id": "Ur6In1Wcc--M"
      },
      "source": [
        "dados_amodal=[1,2,3,4,5]"
      ],
      "execution_count": null,
      "outputs": []
    },
    {
      "cell_type": "code",
      "metadata": {
        "colab": {
          "base_uri": "https://localhost:8080/"
        },
        "id": "--byu_JWdUqF",
        "outputId": "19af74f2-5a17-4c38-cc59-d661ddf5ece9"
      },
      "source": [
        "calcula_moda(dados_amodal)"
      ],
      "execution_count": null,
      "outputs": [
        {
          "output_type": "stream",
          "text": [
            "Counter({1: 1, 2: 1, 3: 1, 4: 1, 5: 1})\n"
          ],
          "name": "stdout"
        },
        {
          "output_type": "execute_result",
          "data": {
            "text/plain": [
              "[1, 2, 3, 4, 5]"
            ]
          },
          "metadata": {
            "tags": []
          },
          "execution_count": 51
        }
      ]
    },
    {
      "cell_type": "code",
      "metadata": {
        "id": "IJks62cxdWu6"
      },
      "source": [
        "dados_mediana7=[7,1,5,2,3,1,6]"
      ],
      "execution_count": null,
      "outputs": []
    },
    {
      "cell_type": "code",
      "metadata": {
        "colab": {
          "base_uri": "https://localhost:8080/"
        },
        "id": "d8c48EnLdzFV",
        "outputId": "e69d11fb-3c93-4194-d63c-6fc0e51f2eb8"
      },
      "source": [
        "np.sort(dados_mediana7)"
      ],
      "execution_count": null,
      "outputs": [
        {
          "output_type": "execute_result",
          "data": {
            "text/plain": [
              "array([1, 1, 2, 3, 5, 6, 7])"
            ]
          },
          "metadata": {
            "tags": []
          },
          "execution_count": 53
        }
      ]
    },
    {
      "cell_type": "code",
      "metadata": {
        "colab": {
          "base_uri": "https://localhost:8080/"
        },
        "id": "qJfB2JQ_d3BN",
        "outputId": "f2adf899-f963-4b14-b834-0df286cd669f"
      },
      "source": [
        "np.median(dados_mediana7)"
      ],
      "execution_count": null,
      "outputs": [
        {
          "output_type": "execute_result",
          "data": {
            "text/plain": [
              "3.0"
            ]
          },
          "metadata": {
            "tags": []
          },
          "execution_count": 55
        }
      ]
    },
    {
      "cell_type": "code",
      "metadata": {
        "id": "NiNs52cQd73c"
      },
      "source": [
        "dados_mediana8 = [1,2,1,1,4,5,3,6]"
      ],
      "execution_count": null,
      "outputs": []
    },
    {
      "cell_type": "code",
      "metadata": {
        "colab": {
          "base_uri": "https://localhost:8080/"
        },
        "id": "0vPrNoZMeSAO",
        "outputId": "41a374e9-49f7-4948-9867-4d46a1e75fa5"
      },
      "source": [
        "np.sort(dados_mediana8)"
      ],
      "execution_count": null,
      "outputs": [
        {
          "output_type": "execute_result",
          "data": {
            "text/plain": [
              "array([1, 1, 1, 2, 3, 4, 5, 6])"
            ]
          },
          "metadata": {
            "tags": []
          },
          "execution_count": 57
        }
      ]
    },
    {
      "cell_type": "code",
      "metadata": {
        "colab": {
          "base_uri": "https://localhost:8080/"
        },
        "id": "TQWWLZ-aeUzz",
        "outputId": "b1336eb7-767a-4ff6-a848-b7bf465fe2e3"
      },
      "source": [
        "np.median(dados_mediana8)"
      ],
      "execution_count": null,
      "outputs": [
        {
          "output_type": "execute_result",
          "data": {
            "text/plain": [
              "2.5"
            ]
          },
          "metadata": {
            "tags": []
          },
          "execution_count": 58
        }
      ]
    },
    {
      "cell_type": "code",
      "metadata": {
        "id": "tgIaS-PLeYp8"
      },
      "source": [
        ""
      ],
      "execution_count": null,
      "outputs": []
    }
  ]
}